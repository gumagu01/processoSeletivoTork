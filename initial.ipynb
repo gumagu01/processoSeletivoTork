{
 "cells": [
  {
   "cell_type": "code",
   "execution_count": 1,
   "source": [
    "pip install imdb-sqlite"
   ],
   "outputs": [
    {
     "output_type": "stream",
     "name": "stdout",
     "text": [
      "Requirement already satisfied: imdb-sqlite in /home/gustavo/anaconda3/lib/python3.8/site-packages (0.1.3)\n",
      "Requirement already satisfied: tqdm>=4.4.1 in /home/gustavo/anaconda3/lib/python3.8/site-packages (from imdb-sqlite) (4.59.0)\n",
      "Note: you may need to restart the kernel to use updated packages.\n"
     ]
    }
   ],
   "metadata": {}
  },
  {
   "cell_type": "code",
   "execution_count": 2,
   "source": [
    "pip install pycountry\n"
   ],
   "outputs": [
    {
     "output_type": "stream",
     "name": "stdout",
     "text": [
      "Collecting pycountry\n",
      "  Downloading pycountry-20.7.3.tar.gz (10.1 MB)\n",
      "\u001b[K     |████████████████████████████████| 10.1 MB 6.8 MB/s \n",
      "\u001b[?25hBuilding wheels for collected packages: pycountry\n",
      "  Building wheel for pycountry (setup.py) ... \u001b[?25ldone\n",
      "\u001b[?25h  Created wheel for pycountry: filename=pycountry-20.7.3-py2.py3-none-any.whl size=10746863 sha256=8f0b456fb2671bef7150468c70f570ed733abe4451336dc9cab046bd32ca9408\n",
      "  Stored in directory: /home/gustavo/.cache/pip/wheels/09/eb/0d/4ee773c6a4aadc2a43cb5c1d07f268f13c4cdc0eec88e7c1ef\n",
      "Successfully built pycountry\n",
      "Installing collected packages: pycountry\n",
      "Successfully installed pycountry-20.7.3\n",
      "Note: you may need to restart the kernel to use updated packages.\n"
     ]
    }
   ],
   "metadata": {}
  },
  {
   "cell_type": "code",
   "execution_count": 3,
   "source": [
    "%%time\n",
    "!imdb-sqlite"
   ],
   "outputs": [
    {
     "output_type": "stream",
     "name": "stdout",
     "text": [
      "2021-09-08 16:58:57,694 GET https://datasets.imdbws.com/name.basics.tsv.gz -> downloads/name.basics.tsv.gz\n",
      "2021-09-08 16:59:19,167 GET https://datasets.imdbws.com/title.basics.tsv.gz -> downloads/title.basics.tsv.gz\n",
      "2021-09-08 16:59:34,395 GET https://datasets.imdbws.com/title.akas.tsv.gz -> downloads/title.akas.tsv.gz\n",
      "2021-09-08 16:59:58,619 GET https://datasets.imdbws.com/title.principals.tsv.gz -> downloads/title.principals.tsv.gz\n",
      "2021-09-08 17:00:37,205 GET https://datasets.imdbws.com/title.episode.tsv.gz -> downloads/title.episode.tsv.gz\n",
      "2021-09-08 17:00:40,763 GET https://datasets.imdbws.com/title.ratings.tsv.gz -> downloads/title.ratings.tsv.gz\n",
      "2021-09-08 17:00:41,553 Populating database: imdb.db\n",
      "2021-09-08 17:00:41,554 Applying schema\n",
      "2021-09-08 17:00:41,556 Importing file: downloads/name.basics.tsv.gz\n",
      "2021-09-08 17:00:41,556 Reading number of rows ...\n",
      "2021-09-08 17:00:47,687 Inserting rows into table: people\n",
      "100%|█████████████████████████| 11205691/11205691 [02:43<00:00, 68593.80 rows/s]\n",
      "2021-09-08 17:03:31,067 Importing file: downloads/title.basics.tsv.gz\n",
      "2021-09-08 17:03:31,067 Reading number of rows ...\n",
      "2021-09-08 17:03:35,167 Inserting rows into table: titles\n",
      "100%|███████████████████████████| 8246400/8246400 [02:01<00:00, 68029.77 rows/s]\n",
      "2021-09-08 17:05:36,389 Importing file: downloads/title.akas.tsv.gz\n",
      "2021-09-08 17:05:36,389 Reading number of rows ...\n",
      "2021-09-08 17:05:43,691 Inserting rows into table: akas\n",
      "100%|█████████████████████████| 29025700/29025700 [06:17<00:00, 76900.95 rows/s]\n",
      "2021-09-08 17:12:01,138 Importing file: downloads/title.principals.tsv.gz\n",
      "2021-09-08 17:12:01,138 Reading number of rows ...\n",
      "2021-09-08 17:12:12,518 Inserting rows into table: crew\n",
      "100%|█████████████████████████| 46662236/46662236 [08:04<00:00, 96282.67 rows/s]\n",
      "2021-09-08 17:20:17,161 Importing file: downloads/title.episode.tsv.gz\n",
      "2021-09-08 17:20:17,161 Reading number of rows ...\n",
      "2021-09-08 17:20:18,185 Inserting rows into table: episodes\n",
      "100%|██████████████████████████| 6048332/6048332 [00:42<00:00, 141238.24 rows/s]\n",
      "2021-09-08 17:21:01,012 Importing file: downloads/title.ratings.tsv.gz\n",
      "2021-09-08 17:21:01,013 Reading number of rows ...\n",
      "2021-09-08 17:21:01,409 Inserting rows into table: ratings\n",
      "100%|██████████████████████████| 1184873/1184873 [00:09<00:00, 130333.84 rows/s]\n",
      "2021-09-08 17:21:10,503 Creating table indices ...\n",
      "2021-09-08 17:23:58,889 Import successful\n",
      "CPU times: user 32.9 s, sys: 8.31 s, total: 41.2 s\n",
      "Wall time: 25min 1s\n"
     ]
    }
   ],
   "metadata": {}
  }
 ],
 "metadata": {
  "orig_nbformat": 4,
  "language_info": {
   "name": "python",
   "version": "3.8.8",
   "mimetype": "text/x-python",
   "codemirror_mode": {
    "name": "ipython",
    "version": 3
   },
   "pygments_lexer": "ipython3",
   "nbconvert_exporter": "python",
   "file_extension": ".py"
  },
  "kernelspec": {
   "name": "python3",
   "display_name": "Python 3.8.8 64-bit ('base': conda)"
  },
  "interpreter": {
   "hash": "3c17e3122d25d527b33a00365b6902e14e8de10f291729ab7d4e45a04e4f03d9"
  }
 },
 "nbformat": 4,
 "nbformat_minor": 2
}